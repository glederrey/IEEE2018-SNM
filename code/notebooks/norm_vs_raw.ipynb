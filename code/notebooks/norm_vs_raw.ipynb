{
 "cells": [
  {
   "cell_type": "code",
   "execution_count": 1,
   "metadata": {
    "collapsed": true
   },
   "outputs": [],
   "source": [
    "import os\n",
    "os.chdir('..')"
   ]
  },
  {
   "cell_type": "code",
   "execution_count": 2,
   "metadata": {
    "collapsed": true
   },
   "outputs": [],
   "source": [
    "import pandas as pd\n",
    "import numpy as np\n",
    "\n",
    "import scipy.optimize as sco\n",
    "\n",
    "import warnings\n",
    "warnings.filterwarnings('ignore')\n",
    "\n",
    "import sklearn.cluster as cl\n",
    "from sklearn import mixture\n",
    "\n",
    "data_folder = '../data/'\n",
    "path = data_folder + 'GEV_SM/swissmetro.dat'\n",
    "\n",
    "from classes.MNLogit import *\n",
    "from helpers.data import *\n",
    "from helpers.algos import *\n",
    "from helpers.models import *\n",
    "import copy\n",
    "\n",
    "import matplotlib.pyplot as plt\n",
    "import matplotlib\n",
    "matplotlib.rcParams['text.usetex'] = True\n",
    "\n",
    "import time\n",
    "import pickle\n",
    "\n",
    "import hyperopt\n",
    "from hyperopt.pyll.base import scope\n",
    "from hyperopt import fmin, tpe, hp, STATUS_OK, Trials\n",
    "\n",
    "import seaborn as sns\n",
    "\n",
    "from matplotlib import rc\n",
    "\n",
    "import numdifftools as nd\n",
    "\n",
    "sns.set(font_scale=1.5)\n",
    "\n",
    "# For the Python notebook\n",
    "%matplotlib inline\n",
    "%reload_ext autoreload\n",
    "%autoreload 2\n",
    "\n",
    "seed = 1234"
   ]
  },
  {
   "cell_type": "code",
   "execution_count": 3,
   "metadata": {
    "collapsed": true
   },
   "outputs": [],
   "source": [
    "models = {'norm': load_model(path, 'norm'), 'raw': load_model(path, 'raw')}\n",
    "x = np.zeros(len(models['norm'].params))"
   ]
  },
  {
   "cell_type": "code",
   "execution_count": 4,
   "metadata": {},
   "outputs": [
    {
     "name": "stdout",
     "output_type": "stream",
     "text": [
      "CPU times: user 2.97 s, sys: 20 ms, total: 2.99 s\n",
      "Wall time: 2.99 s\n"
     ]
    }
   ],
   "source": [
    "%%time\n",
    "res_bfgs = sco.minimize(models['norm'].negloglikelihood, x, method='BFGS', tol=1e-10, jac=models['norm'].neg_grad)"
   ]
  },
  {
   "cell_type": "code",
   "execution_count": 5,
   "metadata": {},
   "outputs": [
    {
     "data": {
      "text/plain": [
       "0.7908058095403111"
      ]
     },
     "execution_count": 5,
     "metadata": {},
     "output_type": "execute_result"
    }
   ],
   "source": [
    "res_bfgs.fun"
   ]
  },
  {
   "cell_type": "markdown",
   "metadata": {},
   "source": [
    "# First order"
   ]
  },
  {
   "cell_type": "code",
   "execution_count": 6,
   "metadata": {
    "collapsed": true
   },
   "outputs": [],
   "source": [
    "nbr = 20\n",
    "draws = 10\n",
    "\n",
    "labels = {\n",
    "    'GD': 'Gradient Descent',\n",
    "    'SGD-100': 'Stochastic GD (batch size: 100)',\n",
    "    'adagrad-100': 'Adagrad (batch size: 1000)'\n",
    "}\n",
    "\n",
    "res = {'norm': {}, 'raw': {}}"
   ]
  },
  {
   "cell_type": "code",
   "execution_count": 9,
   "metadata": {},
   "outputs": [
    {
     "name": "stdout",
     "output_type": "stream",
     "text": [
      "Train models norm\n",
      "Start Line search mini batch SGD for 20 epochs (20 iterations)\n",
      "\n",
      "Train models raw\n",
      "Start Line search mini batch SGD for 20 epochs (20 iterations)\n",
      "\n"
     ]
    }
   ],
   "source": [
    "for key in res.keys():\n",
    "    print(\"Train models {}\".format(key))\n",
    "\n",
    "    dct = {}  \n",
    "\n",
    "    start = time.time()\n",
    "    epochs, xs, lls = line_search_mbSGD(models[key], x, nbr, len(models[key].df), False)\n",
    "    stop = time.time()\n",
    "\n",
    "    dct['epochs'] = epochs\n",
    "    dct['lls'] = lls\n",
    "    dct['times'] = stop-start\n",
    "\n",
    "    res[key]['GD'] = dct\n",
    "    \n",
    "    print()"
   ]
  },
  {
   "cell_type": "code",
   "execution_count": 10,
   "metadata": {},
   "outputs": [
    {
     "name": "stdout",
     "output_type": "stream",
     "text": [
      "Train models norm\n",
      "Start Line search mini batch SGD for 20 epochs (1808 iterations)\n",
      "Start Line search mini batch SGD for 20 epochs (1808 iterations)\n",
      "Start Line search mini batch SGD for 20 epochs (1808 iterations)\n",
      "Start Line search mini batch SGD for 20 epochs (1808 iterations)\n",
      "Start Line search mini batch SGD for 20 epochs (1808 iterations)\n",
      "Start Line search mini batch SGD for 20 epochs (1808 iterations)\n",
      "Start Line search mini batch SGD for 20 epochs (1808 iterations)\n",
      "Start Line search mini batch SGD for 20 epochs (1808 iterations)\n",
      "Start Line search mini batch SGD for 20 epochs (1808 iterations)\n",
      "Start Line search mini batch SGD for 20 epochs (1808 iterations)\n",
      "\n",
      "Train models raw\n",
      "Start Line search mini batch SGD for 20 epochs (1808 iterations)\n",
      "Start Line search mini batch SGD for 20 epochs (1808 iterations)\n",
      "Start Line search mini batch SGD for 20 epochs (1808 iterations)\n",
      "Start Line search mini batch SGD for 20 epochs (1808 iterations)\n",
      "Start Line search mini batch SGD for 20 epochs (1808 iterations)\n",
      "Start Line search mini batch SGD for 20 epochs (1808 iterations)\n",
      "Start Line search mini batch SGD for 20 epochs (1808 iterations)\n",
      "Start Line search mini batch SGD for 20 epochs (1808 iterations)\n",
      "Start Line search mini batch SGD for 20 epochs (1808 iterations)\n",
      "Start Line search mini batch SGD for 20 epochs (1808 iterations)\n",
      "\n"
     ]
    }
   ],
   "source": [
    "for key in res.keys():\n",
    "    print(\"Train models {}\".format(key))\n",
    "\n",
    "    np.random.seed(seed)\n",
    "\n",
    "    dct = {}\n",
    "\n",
    "    lls = []\n",
    "    times = []\n",
    "    xs = []\n",
    "    for d in range(draws):\n",
    "\n",
    "        start = time.time()\n",
    "        ep, x_val, ll = line_search_mbSGD(models[key], x, nbr, 100, False)\n",
    "        stop = time.time()\n",
    "\n",
    "        times.append(stop-start)\n",
    "        lls.append(ll)\n",
    "        xs.append(x_val)\n",
    "\n",
    "    dct['epochs'] = np.array(ep)\n",
    "    dct['lls'] = np.array(lls)\n",
    "    dct['times'] = np.array(times)\n",
    "    dct['xs'] = np.array(xs)\n",
    "    \n",
    "    res[key]['SGD-100'] = dct    \n",
    "    \n",
    "    print()"
   ]
  },
  {
   "cell_type": "code",
   "execution_count": 11,
   "metadata": {},
   "outputs": [
    {
     "name": "stdout",
     "output_type": "stream",
     "text": [
      "Train models norm\n",
      "Start Line search Adagrad for 20 epochs (1808 iterations)\n",
      "Start Line search Adagrad for 20 epochs (1808 iterations)\n",
      "Start Line search Adagrad for 20 epochs (1808 iterations)\n",
      "Start Line search Adagrad for 20 epochs (1808 iterations)\n",
      "Start Line search Adagrad for 20 epochs (1808 iterations)\n",
      "Start Line search Adagrad for 20 epochs (1808 iterations)\n",
      "Start Line search Adagrad for 20 epochs (1808 iterations)\n",
      "Start Line search Adagrad for 20 epochs (1808 iterations)\n",
      "Start Line search Adagrad for 20 epochs (1808 iterations)\n",
      "Start Line search Adagrad for 20 epochs (1808 iterations)\n",
      "\n",
      "Train models raw\n",
      "Start Line search Adagrad for 20 epochs (1808 iterations)\n",
      "Start Line search Adagrad for 20 epochs (1808 iterations)\n",
      "Start Line search Adagrad for 20 epochs (1808 iterations)\n",
      "Start Line search Adagrad for 20 epochs (1808 iterations)\n",
      "Start Line search Adagrad for 20 epochs (1808 iterations)\n",
      "Start Line search Adagrad for 20 epochs (1808 iterations)\n",
      "Start Line search Adagrad for 20 epochs (1808 iterations)\n",
      "Start Line search Adagrad for 20 epochs (1808 iterations)\n",
      "Start Line search Adagrad for 20 epochs (1808 iterations)\n",
      "Start Line search Adagrad for 20 epochs (1808 iterations)\n",
      "\n"
     ]
    }
   ],
   "source": [
    "for key in res.keys():\n",
    "    print(\"Train models {}\".format(key))\n",
    "\n",
    "    np.random.seed(seed)\n",
    "\n",
    "    dct = {}\n",
    "\n",
    "    lls = []\n",
    "    times = []\n",
    "    xs = []\n",
    "    for d in range(draws):\n",
    "\n",
    "        start = time.time()\n",
    "        ep, x_val, ll = line_search_adagrad(models[key], x, nbr, 100, False)\n",
    "        stop = time.time()\n",
    "\n",
    "        times.append(stop-start)\n",
    "        lls.append(ll)\n",
    "        xs.append(x_val)\n",
    "\n",
    "    dct['epochs'] = np.array(ep)\n",
    "    dct['lls'] = np.array(lls)\n",
    "    dct['times'] = np.array(times)\n",
    "    dct['xs'] = xs\n",
    "\n",
    "    res[key]['adagrad-100'] = dct \n",
    "    \n",
    "    print()"
   ]
  },
  {
   "cell_type": "code",
   "execution_count": 12,
   "metadata": {},
   "outputs": [
    {
     "name": "stdout",
     "output_type": "stream",
     "text": [
      "Train models norm\n",
      "Start Line search mini batch SN for 20 epochs (181 iterations)\n",
      "Start Line search mini batch SN for 20 epochs (181 iterations)\n",
      "Start Line search mini batch SN for 20 epochs (181 iterations)\n",
      "Start Line search mini batch SN for 20 epochs (181 iterations)\n",
      "Start Line search mini batch SN for 20 epochs (181 iterations)\n",
      "Start Line search mini batch SN for 20 epochs (181 iterations)\n",
      "Start Line search mini batch SN for 20 epochs (181 iterations)\n",
      "Start Line search mini batch SN for 20 epochs (181 iterations)\n",
      "Start Line search mini batch SN for 20 epochs (181 iterations)\n",
      "Start Line search mini batch SN for 20 epochs (181 iterations)\n",
      "\n",
      "Train models raw\n",
      "Start Line search mini batch SN for 20 epochs (181 iterations)\n",
      "Start Line search mini batch SN for 20 epochs (181 iterations)\n",
      "Start Line search mini batch SN for 20 epochs (181 iterations)\n",
      "Start Line search mini batch SN for 20 epochs (181 iterations)\n",
      "Start Line search mini batch SN for 20 epochs (181 iterations)\n",
      "Start Line search mini batch SN for 20 epochs (181 iterations)\n",
      "Start Line search mini batch SN for 20 epochs (181 iterations)\n",
      "Start Line search mini batch SN for 20 epochs (181 iterations)\n",
      "Start Line search mini batch SN for 20 epochs (181 iterations)\n",
      "Start Line search mini batch SN for 20 epochs (181 iterations)\n",
      "\n"
     ]
    }
   ],
   "source": [
    "for key in res.keys():\n",
    "    print(\"Train models {}\".format(key))\n",
    "\n",
    "    np.random.seed(seed)\n",
    "\n",
    "    dct = {}\n",
    "\n",
    "    lls = []\n",
    "    times = []\n",
    "    xs = []\n",
    "    for d in range(draws):\n",
    "\n",
    "        start = time.time()\n",
    "        ep, x_val, ll, perc = line_search_mini_batch_SNM(models[key], x, nbr, 1000, False)\n",
    "        stop = time.time()\n",
    "\n",
    "        times.append(stop-start)\n",
    "        lls.append(ll)\n",
    "        xs.append(x_val)\n",
    "\n",
    "    dct['epochs'] = np.array(ep)\n",
    "    dct['lls'] = np.array(lls)\n",
    "    dct['times'] = np.array(times)\n",
    "    dct['xs'] = xs\n",
    "\n",
    "    res[key]['SNM-1000'] = dct \n",
    "    \n",
    "    print()"
   ]
  },
  {
   "cell_type": "code",
   "execution_count": 13,
   "metadata": {
    "collapsed": true
   },
   "outputs": [],
   "source": [
    "with open('../data/norm_vs_raw2.p', 'wb') as outfile:\n",
    "    pickle.dump(res, outfile)"
   ]
  },
  {
   "cell_type": "code",
   "execution_count": 19,
   "metadata": {},
   "outputs": [
    {
     "data": {
      "text/plain": [
       "dict_keys(['GD', 'SGD-100', 'adagrad-100', 'SNM-1000'])"
      ]
     },
     "execution_count": 19,
     "metadata": {},
     "output_type": "execute_result"
    }
   ],
   "source": [
    "res['raw'].keys()"
   ]
  },
  {
   "cell_type": "code",
   "execution_count": 10,
   "metadata": {
    "scrolled": false
   },
   "outputs": [
    {
     "data": {
      "image/png": "[encoded data removed]",
      "text/plain": [
       "<matplotlib.figure.Figure at 0x7f7e20a84c50>"
      ]
     },
     "metadata": {},
     "output_type": "display_data"
    },
    {
     "data": {
      "image/png": "[encoded data removed]",
      "text/plain": [
       "<matplotlib.figure.Figure at 0x7f7e1bc76e80>"
      ]
     },
     "metadata": {},
     "output_type": "display_data"
    },
    {
     "data": {
      "image/png": "[encoded data removed]",
      "text/plain": [
       "<matplotlib.figure.Figure at 0x7f7e1b65d828>"
      ]
     },
     "metadata": {},
     "output_type": "display_data"
    }
   ],
   "source": [
    "with open('../data/norm_vs_raw2.p', 'rb') as infile:\n",
    "    res = pickle.load(infile)\n",
    "\n",
    "colors = {'raw': (232/255,164/255,29/255), \n",
    "          'norm': (0/255,152/255,205/255)}\n",
    "\n",
    "labels = {'raw': 'Raw data (model $\\\\mathcal{M}$)', 'norm': 'Normalized data (model $\\\\bar{\\\\mathcal{M}}$)'}\n",
    "\n",
    "file = {'SGD-100': 'SGD_norm_raw', 'adagrad-100': 'adagrad_norm_raw', 'SNM-1000': 'SNM_norm_raw'}\n",
    "\n",
    "for algo in ['SGD-100', 'adagrad-100', 'SNM-1000']:    \n",
    "\n",
    "    plt.figure(figsize=(5,3), frameon=False)\n",
    "\n",
    "    sns.set_context(\"paper\")\n",
    "    sns.set(font_scale = 1.3)\n",
    "    sns.set_style(\"white\", {\n",
    "        \"font.family\": \"sans-serif\",\n",
    "        \"font.serif\": ['Helvetica'],\n",
    "        \"font.scale\": 2\n",
    "    })\n",
    "    sns.set_style(\"ticks\", {\"xtick.major.size\": 4,\n",
    "                            \"ytick.major.size\": 4})\n",
    "\n",
    "    ax = plt.subplot(111)\n",
    "    ax.spines['right'].set_visible(False)\n",
    "    ax.spines['top'].set_visible(False)\n",
    "\n",
    "    ax.plot([0, nbr], [-res_bfgs.fun, -res_bfgs.fun], 'r--', label='Optimal log-likelihood')\n",
    "\n",
    "    for key in res.keys():\n",
    "\n",
    "        epochs = res[key][algo]['epochs']\n",
    "\n",
    "        plus = []\n",
    "        minus = []\n",
    "        avg = []\n",
    "\n",
    "        vals = res[key][algo]['lls']\n",
    "\n",
    "        #print(res[key][algo]['xs'][-1][-1])\n",
    "\n",
    "        for i in range(vals.shape[1]):\n",
    "            avg.append(np.mean(vals[:,i]))\n",
    "            minus.append(np.percentile(vals[:,i], 5))\n",
    "            plus.append(np.percentile(vals[:,i], 95))\n",
    "\n",
    "        ax.plot(epochs, avg, linestyle='-', color=colors[key], label=labels[key])#, label=labels[key])\n",
    "        ax.fill_between(epochs, plus, minus, color=colors[key], alpha=0.5)\n",
    "\n",
    "    plt.legend()\n",
    "    plt.xlabel('Epoch')\n",
    "    plt.ylabel('Normalized log-likelihood ($\\\\bar{\\\\mathcal{L}}$)')\n",
    "    leg = ax.legend(frameon=True)\n",
    "    max_ep = 10\n",
    "\n",
    "    ax.set_xlim([-0.05, max_ep])\n",
    "    \n",
    "    plt.savefig('../figures/{}{}.pdf'.format(file[algo], max_ep), bbox_inches='tight')"
   ]
  },
  {
   "cell_type": "code",
   "execution_count": 23,
   "metadata": {},
   "outputs": [
    {
     "name": "stdout",
     "output_type": "stream",
     "text": [
      "SGD-100\n",
      "  LL for raw data: -0.808608\n",
      "  LL for norm data: -0.797970\n",
      "  Diff: 1.33\n",
      "\n",
      "adagrad-100\n",
      "  LL for raw data: -0.813525\n",
      "  LL for norm data: -0.801471\n",
      "  Diff: 1.50\n",
      "\n",
      "SNM-1000\n",
      "  LL for raw data: -0.793933\n",
      "  LL for norm data: -0.793933\n",
      "  Diff: 0.00\n",
      "\n"
     ]
    }
   ],
   "source": [
    "for algo in ['SGD-100', 'adagrad-100', 'SNM-1000']:\n",
    "    \n",
    "    avg = {}\n",
    "    \n",
    "    for key in res:\n",
    "        idx = next(x[0] for x in enumerate(res[key][algo]['epochs']) if x[1] >= 10)\n",
    "        \n",
    "        lls = res[key][algo]['lls']\n",
    "        \n",
    "        tmp = lls[:,idx]\n",
    "        \n",
    "        avg[key] = np.mean(tmp)\n",
    "        \n",
    "    print(algo)\n",
    "    print(\"  LL for raw data: {:.6f}\".format(avg['raw']))\n",
    "    print(\"  LL for norm data: {:.6f}\".format(avg['norm']))\n",
    "    print(\"  Diff: {:.2f}\".format(np.abs(100*(avg['norm']-avg['raw'])/avg['norm'])))\n",
    "    print()"
   ]
  },
  {
   "cell_type": "code",
   "execution_count": null,
   "metadata": {
    "collapsed": true
   },
   "outputs": [],
   "source": []
  }
 ],
 "metadata": {
  "kernelspec": {
   "display_name": "Python 3",
   "language": "python",
   "name": "python3"
  },
  "language_info": {
   "codemirror_mode": {
    "name": "ipython",
    "version": 3
   },
   "file_extension": ".py",
   "mimetype": "text/x-python",
   "name": "python",
   "nbconvert_exporter": "python",
   "pygments_lexer": "ipython3",
   "version": "3.6.3"
  }
 },
 "nbformat": 4,
 "nbformat_minor": 2
}
