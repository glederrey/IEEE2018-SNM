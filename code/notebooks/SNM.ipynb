{
 "cells": [
  {
   "cell_type": "code",
   "execution_count": 1,
   "metadata": {
    "collapsed": true
   },
   "outputs": [],
   "source": [
    "import os\n",
    "os.chdir('..')"
   ]
  },
  {
   "cell_type": "code",
   "execution_count": 3,
   "metadata": {
    "collapsed": true
   },
   "outputs": [],
   "source": [
    "import pandas as pd\n",
    "import numpy as np\n",
    "\n",
    "import scipy.optimize as sco\n",
    "\n",
    "import warnings\n",
    "warnings.filterwarnings('ignore')\n",
    "\n",
    "import sklearn.cluster as cl\n",
    "from sklearn import mixture\n",
    "\n",
    "data_folder = '../data/'\n",
    "path = data_folder + 'GEV_SM/swissmetro.dat'\n",
    "\n",
    "from classes.MNLogit import *\n",
    "from helpers.data import *\n",
    "from helpers.algos import *\n",
    "from helpers.models import *\n",
    "import copy\n",
    "\n",
    "import matplotlib.pyplot as plt\n",
    "import matplotlib\n",
    "matplotlib.rcParams['text.usetex'] = True\n",
    "\n",
    "import time\n",
    "import pickle\n",
    "\n",
    "import hyperopt\n",
    "from hyperopt.pyll.base import scope\n",
    "from hyperopt import fmin, tpe, hp, STATUS_OK, Trials\n",
    "\n",
    "import seaborn as sns\n",
    "\n",
    "import numdifftools as nd\n",
    "\n",
    "sns.set(font_scale=1.5)\n",
    "\n",
    "# For the Python notebook\n",
    "%matplotlib inline\n",
    "%reload_ext autoreload\n",
    "%autoreload 2\n",
    "\n",
    "seed = 1234"
   ]
  },
  {
   "cell_type": "code",
   "execution_count": 4,
   "metadata": {
    "collapsed": true
   },
   "outputs": [],
   "source": [
    "model = load_model(path, 'norm')\n",
    "x = np.zeros(len(model.params))"
   ]
  },
  {
   "cell_type": "code",
   "execution_count": 5,
   "metadata": {},
   "outputs": [
    {
     "name": "stdout",
     "output_type": "stream",
     "text": [
      "CPU times: user 2.64 s, sys: 0 ns, total: 2.64 s\n",
      "Wall time: 2.64 s\n"
     ]
    }
   ],
   "source": [
    "%%time\n",
    "res_bfgs = sco.minimize(model.negloglikelihood, x, method='BFGS', tol=1e-8, jac=model.neg_grad)"
   ]
  },
  {
   "cell_type": "code",
   "execution_count": 6,
   "metadata": {},
   "outputs": [
    {
     "data": {
      "text/plain": [
       "array([ 0.786179  ,  0.98264685, -0.65596648, -1.04933718, -0.68768718,\n",
       "       -1.05748236, -0.8000895 , -1.44306552, -1.45576372, -1.79689044])"
      ]
     },
     "execution_count": 6,
     "metadata": {},
     "output_type": "execute_result"
    }
   ],
   "source": [
    "res_bfgs.x"
   ]
  },
  {
   "cell_type": "code",
   "execution_count": 7,
   "metadata": {},
   "outputs": [
    {
     "data": {
      "text/plain": [
       "0.7908058095403135"
      ]
     },
     "execution_count": 7,
     "metadata": {},
     "output_type": "execute_result"
    }
   ],
   "source": [
    "res_bfgs.fun"
   ]
  },
  {
   "cell_type": "markdown",
   "metadata": {},
   "source": [
    "# SN"
   ]
  },
  {
   "cell_type": "code",
   "execution_count": 8,
   "metadata": {
    "collapsed": true
   },
   "outputs": [],
   "source": [
    "nbr = 20\n",
    "draws = 10\n",
    "\n",
    "res = {}"
   ]
  },
  {
   "cell_type": "code",
   "execution_count": 8,
   "metadata": {},
   "outputs": [
    {
     "name": "stdout",
     "output_type": "stream",
     "text": [
      "Start Line search mini batch SN for 20 epochs (20 iterations)\n"
     ]
    }
   ],
   "source": [
    "dct = {}  \n",
    "\n",
    "start = time.time()\n",
    "epochs, xs, lls, perc = line_search_mini_batch_SNM(model, x, nbr, len(model.df), False)\n",
    "stop = time.time()\n",
    "\n",
    "dct['epochs'] = epochs\n",
    "dct['lls'] = lls\n",
    "dct['times'] = stop-start\n",
    "dct['percs'] = perc\n",
    "\n",
    "res['NM'] = dct"
   ]
  },
  {
   "cell_type": "code",
   "execution_count": 9,
   "metadata": {},
   "outputs": [
    {
     "name": "stdout",
     "output_type": "stream",
     "text": [
      "Start Line search mini batch SN for 20 epochs (1808 iterations)\n",
      "Start Line search mini batch SN for 20 epochs (1808 iterations)\n",
      "Start Line search mini batch SN for 20 epochs (1808 iterations)\n",
      "Start Line search mini batch SN for 20 epochs (1808 iterations)\n",
      "Start Line search mini batch SN for 20 epochs (1808 iterations)\n",
      "Start Line search mini batch SN for 20 epochs (1808 iterations)\n",
      "Start Line search mini batch SN for 20 epochs (1808 iterations)\n",
      "Start Line search mini batch SN for 20 epochs (1808 iterations)\n",
      "Start Line search mini batch SN for 20 epochs (1808 iterations)\n",
      "Start Line search mini batch SN for 20 epochs (1808 iterations)\n"
     ]
    }
   ],
   "source": [
    "np.random.seed(seed)\n",
    "\n",
    "dct = {}\n",
    "\n",
    "lls = []\n",
    "times = []\n",
    "percs = []\n",
    "for d in range(draws):\n",
    "    \n",
    "    start = time.time()\n",
    "    ep, x_val, ll, perc = line_search_mini_batch_SNM(model, x, nbr, 100, False)\n",
    "    stop = time.time()\n",
    "    \n",
    "    times.append(stop-start)\n",
    "    lls.append(ll)\n",
    "    percs.append(perc)\n",
    "    \n",
    "dct['epochs'] = np.array(ep)\n",
    "dct['lls'] = np.array(lls)\n",
    "dct['times'] = np.array(times)\n",
    "dct['percs'] = np.array(percs)\n",
    "\n",
    "res['SN-100'] = dct    "
   ]
  },
  {
   "cell_type": "code",
   "execution_count": 10,
   "metadata": {
    "scrolled": true
   },
   "outputs": [
    {
     "name": "stdout",
     "output_type": "stream",
     "text": [
      "Start Line search mini batch SN for 20 epochs (181 iterations)\n",
      "Start Line search mini batch SN for 20 epochs (181 iterations)\n",
      "Start Line search mini batch SN for 20 epochs (181 iterations)\n",
      "Start Line search mini batch SN for 20 epochs (181 iterations)\n",
      "Start Line search mini batch SN for 20 epochs (181 iterations)\n",
      "Start Line search mini batch SN for 20 epochs (181 iterations)\n",
      "Start Line search mini batch SN for 20 epochs (181 iterations)\n",
      "Start Line search mini batch SN for 20 epochs (181 iterations)\n",
      "Start Line search mini batch SN for 20 epochs (181 iterations)\n",
      "Start Line search mini batch SN for 20 epochs (181 iterations)\n"
     ]
    }
   ],
   "source": [
    "np.random.seed(seed)\n",
    "\n",
    "dct = {}\n",
    "\n",
    "lls = []\n",
    "times = []\n",
    "percs = []\n",
    "for d in range(draws):\n",
    "    \n",
    "    start = time.time()\n",
    "    ep, x_val, ll, perc = line_search_mini_batch_SNM(model, x, nbr, 1000, False)\n",
    "    stop = time.time()\n",
    "    \n",
    "    times.append(stop-start)\n",
    "    lls.append(ll)\n",
    "    percs.append(perc)\n",
    "    \n",
    "dct['epochs'] = np.array(ep)\n",
    "dct['lls'] = np.array(lls)\n",
    "dct['times'] = np.array(times)\n",
    "dct['percs'] = np.array(percs)\n",
    "\n",
    "\n",
    "res['SN-1000'] = dct  "
   ]
  },
  {
   "cell_type": "code",
   "execution_count": 11,
   "metadata": {
    "collapsed": true
   },
   "outputs": [],
   "source": [
    "with open('../data/SNM2.p', 'wb') as outfile:\n",
    "    pickle.dump(res, outfile)"
   ]
  },
  {
   "cell_type": "code",
   "execution_count": 12,
   "metadata": {},
   "outputs": [
    {
     "data": {
      "image/png": "[encoded data removed]",
      "text/plain": [
       "<matplotlib.figure.Figure at 0x7efdaed88b70>"
      ]
     },
     "metadata": {},
     "output_type": "display_data"
    }
   ],
   "source": [
    "with open('../data/SNM2.p', 'rb') as infile:\n",
    "    res = pickle.load(infile)\n",
    "\n",
    "colors = {'SN-100': (232/255,164/255,29/255), \n",
    "          'SN-1000': (0/255,152/255,205/255)}  \n",
    "\n",
    "labels = {\n",
    "    'NM': 'Newton Method',\n",
    "    'SN-100': 'SNM (batch size: 100)',\n",
    "    'SN-1000': 'SNM (batch size: 1000)'\n",
    "}\n",
    "\n",
    "plt.figure(figsize=(5,3), frameon=False)\n",
    "\n",
    "sns.set_context(\"paper\")\n",
    "sns.set(font_scale = 1.3)\n",
    "sns.set_style(\"white\", {\n",
    "    \"font.family\": \"sans-serif\",\n",
    "    \"font.serif\": ['Helvetica'],\n",
    "    \"font.scale\": 2\n",
    "})\n",
    "sns.set_style(\"ticks\", {\"xtick.major.size\": 4,\n",
    "                        \"ytick.major.size\": 4})\n",
    "\n",
    "ax = plt.subplot(111)\n",
    "ax.spines['right'].set_visible(False)\n",
    "ax.spines['top'].set_visible(False)\n",
    "\n",
    "ax.plot([res['NM']['epochs'][0], res['NM']['epochs'][-1]], \n",
    "        [-res_bfgs.fun, -res_bfgs.fun], 'r--', \n",
    "        label='Optimal log-likelihood')\n",
    "\n",
    "ax.plot(res['NM']['epochs'], res['NM']['lls'], 'k', label=labels['NM'])\n",
    "\n",
    "for key in ['SN-100', 'SN-1000']:\n",
    "    \n",
    "    epochs = res[key]['epochs']\n",
    "    \n",
    "    plus = []\n",
    "    minus = []\n",
    "    avg = []\n",
    "    \n",
    "    vals = res[key]['lls']\n",
    "    \n",
    "    for i in range(vals.shape[1]):\n",
    "        avg.append(np.mean(vals[:,i]))\n",
    "        minus.append(np.percentile(vals[:,i], 5))\n",
    "        plus.append(np.percentile(vals[:,i], 95))\n",
    "    \n",
    "    ax.plot(epochs, avg, linestyle='-', color=colors[key], label=labels[key])\n",
    "    ax.fill_between(epochs, plus, minus, color=colors[key], alpha=0.5)\n",
    "\n",
    "plt.xlabel('Epoch')\n",
    "plt.ylabel('Normalized log-likelihood ($\\\\bar{\\\\mathcal{L}}$)')\n",
    "leg = ax.legend(frameon=True)\n",
    "\n",
    "max_ep = 10\n",
    "\n",
    "ax.set_xlim([-0.05, max_ep])\n",
    "\n",
    "plt.savefig('../figures/SNM{}.pdf'.format(max_ep), bbox_inches='tight')"
   ]
  },
  {
   "cell_type": "code",
   "execution_count": 9,
   "metadata": {},
   "outputs": [
    {
     "name": "stdout",
     "output_type": "stream",
     "text": [
      "  LL for NM: -0.790806\n",
      "  LL for SN-100: -0.825096\n",
      "  LL for SN-1000: -0.793933\n"
     ]
    }
   ],
   "source": [
    "for algo in res.keys():\n",
    "    \n",
    "    avg = {}\n",
    "\n",
    "    idx = next(x[0] for x in enumerate(res[algo]['epochs']) if x[1] >= 10)    \n",
    "    \n",
    "    lls = res[algo]['lls']\n",
    "    \n",
    "    try:\n",
    "        tmp = lls[:,idx]\n",
    "\n",
    "        avg = np.mean(tmp)\n",
    "    except:\n",
    "        avg = lls[idx]\n",
    "        \n",
    "    print(\"  LL for {}: {:.6f}\".format(algo, avg))"
   ]
  },
  {
   "cell_type": "code",
   "execution_count": null,
   "metadata": {
    "collapsed": true
   },
   "outputs": [],
   "source": []
  }
 ],
 "metadata": {
  "kernelspec": {
   "display_name": "Python 3",
   "language": "python",
   "name": "python3"
  },
  "language_info": {
   "codemirror_mode": {
    "name": "ipython",
    "version": 3
   },
   "file_extension": ".py",
   "mimetype": "text/x-python",
   "name": "python",
   "nbconvert_exporter": "python",
   "pygments_lexer": "ipython3",
   "version": "3.6.3"
  }
 },
 "nbformat": 4,
 "nbformat_minor": 2
}
