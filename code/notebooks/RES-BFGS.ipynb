{
 "cells": [
  {
   "cell_type": "code",
   "execution_count": 1,
   "metadata": {
    "collapsed": true
   },
   "outputs": [],
   "source": [
    "import os\n",
    "os.chdir('..')"
   ]
  },
  {
   "cell_type": "code",
   "execution_count": 2,
   "metadata": {
    "collapsed": true
   },
   "outputs": [],
   "source": [
    "import pandas as pd\n",
    "import numpy as np\n",
    "\n",
    "import scipy.optimize as sco\n",
    "\n",
    "import warnings\n",
    "warnings.filterwarnings('ignore')\n",
    "\n",
    "import sklearn.cluster as cl\n",
    "from sklearn import mixture\n",
    "\n",
    "data_folder = '../data/'\n",
    "path = data_folder + 'GEV_SM/swissmetro.dat'\n",
    "\n",
    "from classes.MNLogit import *\n",
    "from helpers.data import *\n",
    "from helpers.algos import *\n",
    "from helpers.models import *\n",
    "import copy\n",
    "\n",
    "import matplotlib.pyplot as plt\n",
    "\n",
    "import time\n",
    "import pickle\n",
    "\n",
    "import hyperopt\n",
    "from hyperopt.pyll.base import scope\n",
    "from hyperopt import fmin, tpe, hp, STATUS_OK, Trials\n",
    "\n",
    "import seaborn as sns\n",
    "\n",
    "import numdifftools as nd\n",
    "\n",
    "sns.set(font_scale=1.5)\n",
    "\n",
    "# For the Python notebook\n",
    "%matplotlib inline\n",
    "%reload_ext autoreload\n",
    "%autoreload 2\n",
    "\n",
    "seed = 1234"
   ]
  },
  {
   "cell_type": "code",
   "execution_count": 3,
   "metadata": {},
   "outputs": [],
   "source": [
    "model = load_model(path, 'norm')\n",
    "x = np.zeros(len(model.params))"
   ]
  },
  {
   "cell_type": "code",
   "execution_count": 4,
   "metadata": {},
   "outputs": [
    {
     "name": "stdout",
     "output_type": "stream",
     "text": [
      "CPU times: user 5.37 s, sys: 64 ms, total: 5.43 s\n",
      "Wall time: 10.6 s\n"
     ]
    }
   ],
   "source": [
    "%%time\n",
    "resbfgs = sco.minimize(model.negloglikelihood, x, method='BFGS', tol=1e-8, jac=model.neg_grad)"
   ]
  },
  {
   "cell_type": "code",
   "execution_count": 5,
   "metadata": {},
   "outputs": [
    {
     "data": {
      "text/plain": [
       "array([ 0.786179  ,  0.98264685, -0.65596648, -1.04933718, -0.68768718,\n",
       "       -1.05748236, -0.8000895 , -1.44306552, -1.45576372, -1.79689044])"
      ]
     },
     "execution_count": 5,
     "metadata": {},
     "output_type": "execute_result"
    }
   ],
   "source": [
    "resbfgs.x"
   ]
  },
  {
   "cell_type": "code",
   "execution_count": 6,
   "metadata": {},
   "outputs": [
    {
     "data": {
      "text/plain": [
       "0.7908058095403135"
      ]
     },
     "execution_count": 6,
     "metadata": {},
     "output_type": "execute_result"
    }
   ],
   "source": [
    "resbfgs.fun"
   ]
  },
  {
   "cell_type": "markdown",
   "metadata": {},
   "source": [
    "# SBFGS"
   ]
  },
  {
   "cell_type": "code",
   "execution_count": 7,
   "metadata": {
    "collapsed": true
   },
   "outputs": [],
   "source": [
    "nbr = 20\n",
    "draws = 10\n",
    "\n",
    "res = {}"
   ]
  },
  {
   "cell_type": "code",
   "execution_count": 8,
   "metadata": {},
   "outputs": [
    {
     "name": "stdout",
     "output_type": "stream",
     "text": [
      "Start BFGS for 20 epochs (20 iterations)\n"
     ]
    }
   ],
   "source": [
    "dct = {}  \n",
    "\n",
    "start = time.time()\n",
    "epochs, xs, lls  = bfgs(model, x, nbr, 'eye', False)\n",
    "stop = time.time()\n",
    "\n",
    "dct['epochs'] = epochs\n",
    "dct['lls'] = lls\n",
    "dct['times'] = stop-start\n",
    "\n",
    "res['BFGS-eye'] = dct"
   ]
  },
  {
   "cell_type": "code",
   "execution_count": 9,
   "metadata": {},
   "outputs": [
    {
     "name": "stdout",
     "output_type": "stream",
     "text": [
      "Start BFGS for 20 epochs (20 iterations)\n"
     ]
    }
   ],
   "source": [
    "dct = {}  \n",
    "\n",
    "start = time.time()\n",
    "epochs, xs, lls  = bfgs(model, x, nbr, 'hessian', False)\n",
    "stop = time.time()\n",
    "\n",
    "dct['epochs'] = epochs\n",
    "dct['lls'] = lls\n",
    "dct['times'] = stop-start\n",
    "\n",
    "res['BFGS-hess'] = dct"
   ]
  },
  {
   "cell_type": "code",
   "execution_count": 10,
   "metadata": {},
   "outputs": [
    {
     "name": "stdout",
     "output_type": "stream",
     "text": [
      "Start Regularized stochastic BFGS for 20 epochs (1808 iterations)\n",
      "Start Regularized stochastic BFGS for 20 epochs (1808 iterations)\n",
      "Start Regularized stochastic BFGS for 20 epochs (1808 iterations)\n",
      "Start Regularized stochastic BFGS for 20 epochs (1808 iterations)\n",
      "Start Regularized stochastic BFGS for 20 epochs (1808 iterations)\n",
      "Start Regularized stochastic BFGS for 20 epochs (1808 iterations)\n",
      "Start Regularized stochastic BFGS for 20 epochs (1808 iterations)\n",
      "Start Regularized stochastic BFGS for 20 epochs (1808 iterations)\n",
      "Start Regularized stochastic BFGS for 20 epochs (1808 iterations)\n",
      "Start Regularized stochastic BFGS for 20 epochs (1808 iterations)\n"
     ]
    }
   ],
   "source": [
    "dct = {}\n",
    "\n",
    "lls = []\n",
    "times = []\n",
    "for d in range(draws):\n",
    "    \n",
    "    start = time.time()\n",
    "    ep, x_val, ll = res_bfgs(model, x, nbr, 100)\n",
    "    stop = time.time()\n",
    "    \n",
    "    times.append(stop-start)\n",
    "    lls.append(ll)\n",
    "    \n",
    "dct['epochs'] = np.array(ep)\n",
    "dct['lls'] = np.array(lls)\n",
    "dct['times'] = np.array(times)\n",
    "\n",
    "res['RES_BFGS-100'] = dct    "
   ]
  },
  {
   "cell_type": "code",
   "execution_count": 11,
   "metadata": {},
   "outputs": [
    {
     "name": "stdout",
     "output_type": "stream",
     "text": [
      "Start Regularized stochastic BFGS for 20 epochs (181 iterations)\n",
      "Start Regularized stochastic BFGS for 20 epochs (181 iterations)\n",
      "Start Regularized stochastic BFGS for 20 epochs (181 iterations)\n",
      "Start Regularized stochastic BFGS for 20 epochs (181 iterations)\n",
      "Start Regularized stochastic BFGS for 20 epochs (181 iterations)\n",
      "Start Regularized stochastic BFGS for 20 epochs (181 iterations)\n",
      "Start Regularized stochastic BFGS for 20 epochs (181 iterations)\n",
      "Start Regularized stochastic BFGS for 20 epochs (181 iterations)\n",
      "Start Regularized stochastic BFGS for 20 epochs (181 iterations)\n",
      "Start Regularized stochastic BFGS for 20 epochs (181 iterations)\n"
     ]
    }
   ],
   "source": [
    "dct = {}\n",
    "\n",
    "lls = []\n",
    "times = []\n",
    "for d in range(draws):\n",
    "    \n",
    "    start = time.time()\n",
    "    ep, x_val, ll = res_bfgs(model, x, nbr, 1000)\n",
    "    stop = time.time()\n",
    "    \n",
    "    times.append(stop-start)\n",
    "    lls.append(ll)\n",
    "    \n",
    "dct['epochs'] = np.array(ep)\n",
    "dct['lls'] = np.array(lls)\n",
    "dct['times'] = np.array(times)\n",
    "\n",
    "res['RES_BFGS-1000'] = dct    "
   ]
  },
  {
   "cell_type": "code",
   "execution_count": 12,
   "metadata": {
    "collapsed": true
   },
   "outputs": [],
   "source": [
    "with open('../data/SBFGS2.p', 'wb') as outfile:\n",
    "    pickle.dump(res, outfile)"
   ]
  },
  {
   "cell_type": "code",
   "execution_count": 16,
   "metadata": {},
   "outputs": [
    {
     "data": {
      "image/png": "[encoded data removed]",
      "text/plain": [
       "<matplotlib.figure.Figure at 0x7fafc7f71208>"
      ]
     },
     "metadata": {},
     "output_type": "display_data"
    }
   ],
   "source": [
    "with open('../data/SBFGS2.p', 'rb') as infile:\n",
    "    res = pickle.load(infile)\n",
    "\n",
    "colors = {'RES_BFGS-100': (232/255,164/255,29/255), \n",
    "          'RES_BFGS-1000': (0/255,152/255,205/255)}\n",
    "\n",
    "labels = {\n",
    "    'BFGS-eye': 'BFGS (Identity start)',\n",
    "    'BFGS-hess': 'BFGS (Hessian start)',\n",
    "    'RES_BFGS-100': 'RES-BFGS (batch size: 100)',\n",
    "    'RES_BFGS-1000': 'RES-BFGS (batch size: 1000)'\n",
    "}\n",
    "\n",
    "plt.figure(figsize=(5,3), frameon=False)\n",
    "\n",
    "sns.set_context(\"paper\")\n",
    "sns.set(font_scale = 1.3)\n",
    "sns.set_style(\"white\", {\n",
    "    \"font.family\": \"sans-serif\",\n",
    "    \"font.serif\": ['Helvetica'],\n",
    "    \"font.scale\": 2\n",
    "})\n",
    "sns.set_style(\"ticks\", {\"xtick.major.size\": 4,\n",
    "                        \"ytick.major.size\": 4})\n",
    "\n",
    "ax = plt.subplot(111)\n",
    "ax.spines['right'].set_visible(False)\n",
    "ax.spines['top'].set_visible(False)\n",
    "\n",
    "ax.plot([res['BFGS-eye']['epochs'][0], res['BFGS-eye']['epochs'][-1]], \n",
    "        [-resbfgs.fun, -resbfgs.fun], 'r--', \n",
    "        label='Optimal log-likelihood')\n",
    "\n",
    "ax.plot(res['BFGS-eye']['epochs'], res['BFGS-eye']['lls'], 'k', label=labels['BFGS-eye'])\n",
    "ax.plot(res['BFGS-hess']['epochs'], res['BFGS-hess']['lls'], '--k', label=labels['BFGS-hess'])\n",
    "\n",
    "\n",
    "for key in ['RES_BFGS-100', 'RES_BFGS-1000']:\n",
    "    \n",
    "    epochs = res[key]['epochs']\n",
    "    \n",
    "    plus = []\n",
    "    minus = []\n",
    "    avg = []\n",
    "    \n",
    "    vals = res[key]['lls']\n",
    "    \n",
    "    for i in range(vals.shape[1]):\n",
    "        avg.append(np.mean(vals[:,i]))\n",
    "        minus.append(np.percentile(vals[:,i], 5))\n",
    "        plus.append(np.percentile(vals[:,i], 95))\n",
    "    \n",
    "    ax.plot(epochs, avg, linestyle='-', color=colors[key] , label=labels[key])\n",
    "    ax.fill_between(epochs, plus, minus, color=colors[key] , alpha=0.5)\n",
    "\n",
    "plt.xlabel('Epoch')\n",
    "plt.ylabel('Normalized log-likelihood ($\\\\bar{\\\\mathcal{L}}$)')\n",
    "leg = ax.legend(frameon=True)\n",
    "max_ep = 20\n",
    "\n",
    "ax.set_xlim([-0.05, max_ep])\n",
    "\n",
    "plt.savefig('../figures/SBFGS{}.pdf'.format(max_ep), bbox_inches='tight')"
   ]
  },
  {
   "cell_type": "code",
   "execution_count": 14,
   "metadata": {},
   "outputs": [
    {
     "name": "stdout",
     "output_type": "stream",
     "text": [
      "  LL for BFGS-eye: -0.963458\n",
      "  LL for BFGS-hess: -0.806245\n",
      "  LL for RES_BFGS-100: -0.796492\n",
      "  LL for RES_BFGS-1000: -0.837937\n"
     ]
    }
   ],
   "source": [
    "for algo in res.keys():\n",
    "    \n",
    "    avg = {}\n",
    "\n",
    "    lls = res[algo]['lls']\n",
    "    \n",
    "    try:\n",
    "        tmp = lls[:,-1]\n",
    "\n",
    "        avg = np.mean(tmp)\n",
    "    except:\n",
    "        avg = lls[-1]\n",
    "        \n",
    "    print(\"  LL for {}: {:.6f}\".format(algo, avg))"
   ]
  }
 ],
 "metadata": {
  "kernelspec": {
   "display_name": "Python 3",
   "language": "python",
   "name": "python3"
  },
  "language_info": {
   "codemirror_mode": {
    "name": "ipython",
    "version": 3
   },
   "file_extension": ".py",
   "mimetype": "text/x-python",
   "name": "python",
   "nbconvert_exporter": "python",
   "pygments_lexer": "ipython3",
   "version": "3.6.3"
  }
 },
 "nbformat": 4,
 "nbformat_minor": 2
}
