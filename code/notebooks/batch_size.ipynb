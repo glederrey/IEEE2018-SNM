{
 "cells": [
  {
   "cell_type": "code",
   "execution_count": 1,
   "metadata": {
    "collapsed": true
   },
   "outputs": [],
   "source": [
    "import os\n",
    "os.chdir('..')"
   ]
  },
  {
   "cell_type": "code",
   "execution_count": 2,
   "metadata": {
    "collapsed": true
   },
   "outputs": [],
   "source": [
    "import pandas as pd\n",
    "import numpy as np\n",
    "\n",
    "import scipy.optimize as sco\n",
    "\n",
    "import warnings\n",
    "warnings.filterwarnings('ignore')\n",
    "\n",
    "import sklearn.cluster as cl\n",
    "from sklearn import mixture\n",
    "\n",
    "data_folder = '../data/'\n",
    "path = data_folder + 'GEV_SM/swissmetro.dat'\n",
    "\n",
    "from classes.MNLogit import *\n",
    "from helpers.data import *\n",
    "from helpers.algos import *\n",
    "from helpers.models import *\n",
    "import copy\n",
    "\n",
    "import matplotlib.pyplot as plt\n",
    "import matplotlib\n",
    "matplotlib.rcParams['text.usetex'] = True\n",
    "\n",
    "import time\n",
    "import pickle\n",
    "\n",
    "import hyperopt\n",
    "from hyperopt.pyll.base import scope\n",
    "from hyperopt import fmin, tpe, hp, STATUS_OK, Trials\n",
    "\n",
    "import seaborn as sns\n",
    "\n",
    "import numdifftools as nd\n",
    "\n",
    "sns.set(font_scale=1.5)\n",
    "\n",
    "# For the Python notebook\n",
    "%matplotlib inline\n",
    "%reload_ext autoreload\n",
    "%autoreload 2\n",
    "\n",
    "seed = 1234"
   ]
  },
  {
   "cell_type": "code",
   "execution_count": 3,
   "metadata": {
    "collapsed": true
   },
   "outputs": [],
   "source": [
    "model = load_model(path, 'norm')\n",
    "x = np.zeros(len(model.params))"
   ]
  },
  {
   "cell_type": "code",
   "execution_count": 4,
   "metadata": {},
   "outputs": [
    {
     "name": "stdout",
     "output_type": "stream",
     "text": [
      "CPU times: user 2.79 s, sys: 40 ms, total: 2.83 s\n",
      "Wall time: 2.83 s\n"
     ]
    }
   ],
   "source": [
    "%%time\n",
    "res_bfgs = sco.minimize(model.negloglikelihood, x, method='BFGS', tol=1e-8, jac=model.neg_grad)"
   ]
  },
  {
   "cell_type": "code",
   "execution_count": 5,
   "metadata": {},
   "outputs": [
    {
     "data": {
      "text/plain": [
       "array([ 0.786179  ,  0.98264685, -0.65596648, -1.04933718, -0.68768718,\n",
       "       -1.05748236, -0.8000895 , -1.44306552, -1.45576372, -1.79689044])"
      ]
     },
     "execution_count": 5,
     "metadata": {},
     "output_type": "execute_result"
    }
   ],
   "source": [
    "res_bfgs.x"
   ]
  },
  {
   "cell_type": "code",
   "execution_count": 6,
   "metadata": {},
   "outputs": [
    {
     "data": {
      "text/plain": [
       "0.7908058095403135"
      ]
     },
     "execution_count": 6,
     "metadata": {},
     "output_type": "execute_result"
    }
   ],
   "source": [
    "res_bfgs.fun"
   ]
  },
  {
   "cell_type": "markdown",
   "metadata": {},
   "source": [
    "# Percentage of Newton step"
   ]
  },
  {
   "cell_type": "code",
   "execution_count": 11,
   "metadata": {
    "collapsed": true
   },
   "outputs": [],
   "source": [
    "nbr = 2\n",
    "draws = 3\n",
    "\n",
    "res = {}\n",
    "\n",
    "batch_sizes = [5, 10, 20, 50, 100, 200, 500, 1000, 2000, 5000, len(model.df)]"
   ]
  },
  {
   "cell_type": "code",
   "execution_count": 12,
   "metadata": {
    "collapsed": true
   },
   "outputs": [],
   "source": [
    "theo_perc = 1-np.sum(model.df['SENIOR'] == 0)/len(model.df)"
   ]
  },
  {
   "cell_type": "code",
   "execution_count": 13,
   "metadata": {},
   "outputs": [
    {
     "name": "stdout",
     "output_type": "stream",
     "text": [
      "100: 0.999\n",
      "CPU times: user 1min 23s, sys: 4 ms, total: 1min 23s\n",
      "Wall time: 1min 23s\n"
     ]
    }
   ],
   "source": [
    "%%time\n",
    "n = len(model.df)\n",
    "draws_theo = 1000\n",
    "\n",
    "percs = []\n",
    "\n",
    "for bs in range(1, 200):\n",
    "    vals = 0\n",
    "    for i in range(draws_theo):\n",
    "        idx = np.random.choice(n, bs, replace=False)\n",
    "        subdf = model.df.iloc[idx]\n",
    "        vals = vals + (np.sum(subdf['SENIOR'])>=1)\n",
    "    proba = vals/draws_theo\n",
    "    if bs == 100:\n",
    "        print(\"100: {}\".format(proba))\n",
    "    percs.append(proba)\n",
    "    "
   ]
  },
  {
   "cell_type": "code",
   "execution_count": 14,
   "metadata": {
    "collapsed": true
   },
   "outputs": [],
   "source": [
    "with open('../data/percentage_newton.p', 'wb') as outfile:\n",
    "    pickle.dump(percs, outfile)"
   ]
  },
  {
   "cell_type": "code",
   "execution_count": 7,
   "metadata": {},
   "outputs": [
    {
     "data": {
      "image/png": "[encoded data removed]",
      "text/plain": [
       "<matplotlib.figure.Figure at 0x7fb58678fdd8>"
      ]
     },
     "metadata": {},
     "output_type": "display_data"
    }
   ],
   "source": [
    "with open('../data/percentage_newton.p', 'rb') as infile:\n",
    "    percs = pickle.load(infile)\n",
    "    \n",
    "plt.figure(figsize=(7.5,4), frameon=False)\n",
    "\n",
    "sns.set_context(\"paper\")\n",
    "sns.set(font_scale = 1.3)\n",
    "sns.set_style(\"white\", {\n",
    "    \"font.family\": \"sans-serif\",\n",
    "    \"font.serif\": ['Helvetica'],\n",
    "    \"font.scale\": 2\n",
    "})\n",
    "sns.set_style(\"ticks\", {\"xtick.major.size\": 4,\n",
    "                        \"ytick.major.size\": 4})\n",
    "\n",
    "ax = plt.subplot(111)\n",
    "ax.spines['right'].set_visible(False)\n",
    "ax.spines['top'].set_visible(False)\n",
    "\n",
    "ax.plot(range(1, 200), 100*np.array(percs), 'k')\n",
    "\n",
    "plt.xlabel('Batch size')\n",
    "plt.ylabel('Percentage of Newton step')\n",
    "plt.savefig('../figures/perc_newton.pdf', bbox_inches='tight')"
   ]
  },
  {
   "cell_type": "markdown",
   "metadata": {},
   "source": [
    "# Dispersion of local minimum"
   ]
  },
  {
   "cell_type": "code",
   "execution_count": 12,
   "metadata": {
    "scrolled": false
   },
   "outputs": [
    {
     "name": "stdout",
     "output_type": "stream",
     "text": [
      "50: avg dist: 93.2134290782702\n",
      "100: avg dist: 4.364059164061623\n",
      "500: avg dist: 1.4749278815978146\n",
      "1000: avg dist: 1.0155490526751254\n",
      "CPU times: user 24min 20s, sys: 248 ms, total: 24min 20s\n",
      "Wall time: 24min 23s\n"
     ]
    }
   ],
   "source": [
    "%%time\n",
    "n = len(model.df)\n",
    "draws = 1000\n",
    "\n",
    "dist = {}\n",
    "\n",
    "for bs in [50, 100, 500, 1000]:\n",
    "    tmp = []\n",
    "    for i in range(draws):\n",
    "        idx = np.random.choice(n, bs, replace=False)\n",
    "        subdf = model.df.iloc[idx]\n",
    "        senior = np.sum(subdf['SENIOR'] == 0) == len(subdf)\n",
    "        f = lambda x: model.negloglikelihood(x, idx)\n",
    "        g = lambda x: model.neg_grad(x, idx)\n",
    "        res = sco.minimize(f, x, method='BFGS', tol=1e-3, jac=g)\n",
    "        d = np.linalg.norm(res.x - res_bfgs.x)\n",
    "        #print(res.success, senior, d)\n",
    "        tmp.append(d)\n",
    "    dist[bs] = np.array(tmp)\n",
    "    print(\"{}: avg dist: {}\".format(bs, np.mean(tmp)))"
   ]
  },
  {
   "cell_type": "code",
   "execution_count": 13,
   "metadata": {
    "collapsed": true
   },
   "outputs": [],
   "source": [
    "with open('../data/dist.p', 'wb') as outfile:\n",
    "    pickle.dump(dist, outfile)"
   ]
  },
  {
   "cell_type": "code",
   "execution_count": 8,
   "metadata": {},
   "outputs": [
    {
     "data": {
      "image/png": "[encoded data removed]",
      "text/plain": [
       "<matplotlib.figure.Figure at 0x7fb581821240>"
      ]
     },
     "metadata": {},
     "output_type": "display_data"
    }
   ],
   "source": [
    "with open('../data/dist.p', 'rb') as infile:\n",
    "    dist = pickle.load(infile)\n",
    "\n",
    "plt.figure(figsize=(7.5,4), frameon=False)\n",
    "\n",
    "sns.set_context(\"paper\")\n",
    "sns.set(font_scale = 1.3)\n",
    "sns.set_style(\"white\", {\n",
    "    \"font.family\": \"sans-serif\",\n",
    "    \"font.serif\": ['Helvetica'],\n",
    "    \"font.scale\": 2\n",
    "})\n",
    "sns.set_style(\"ticks\", {\"xtick.major.size\": 4,\n",
    "                        \"ytick.major.size\": 4})\n",
    "\n",
    "ax = plt.subplot(111)\n",
    "ax.spines['right'].set_visible(False)\n",
    "ax.spines['top'].set_visible(False)\n",
    "\n",
    "mat = [np.log(dist[50]), np.log(dist[100]), np.log(dist[500]), np.log(dist[1000])]\n",
    "\n",
    "boxes = ax.boxplot(mat, sym='k.')\n",
    "plt.ylabel('Euclidian distance ($\\log_{10}$)')\n",
    "plt.xlabel('Batch size')\n",
    "plt.xticks([1, 2, 3, 4], [50, 100, 500, 1000])\n",
    "plt.yticks([-1, 0, 1, 2, 3, 4, 5])\n",
    "plt.grid()\n",
    "ax.set_ylim([-1.5, 5.5])\n",
    "\n",
    "for b in boxes:\n",
    "    for l in boxes[b]:\n",
    "        l.set_linewidth(1.2)\n",
    "        l.set_color('k')\n",
    "        if b == 'fliers':\n",
    "            l.set_alpha(0.8)\n",
    "            l.set_marker('o')\n",
    "            l.set_markersize(2)\n",
    "            \n",
    "plt.savefig('../figures/dist.pdf', bbox_inches='tight')"
   ]
  },
  {
   "cell_type": "code",
   "execution_count": null,
   "metadata": {
    "collapsed": true
   },
   "outputs": [],
   "source": []
  }
 ],
 "metadata": {
  "kernelspec": {
   "display_name": "Python 3",
   "language": "python",
   "name": "python3"
  },
  "language_info": {
   "codemirror_mode": {
    "name": "ipython",
    "version": 3
   },
   "file_extension": ".py",
   "mimetype": "text/x-python",
   "name": "python",
   "nbconvert_exporter": "python",
   "pygments_lexer": "ipython3",
   "version": "3.6.3"
  }
 },
 "nbformat": 4,
 "nbformat_minor": 2
}
